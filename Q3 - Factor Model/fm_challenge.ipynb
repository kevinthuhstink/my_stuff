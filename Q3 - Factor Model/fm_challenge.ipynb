{
 "cells": [
  {
   "cell_type": "markdown",
   "metadata": {},
   "source": [
    "Name:"
   ]
  },
  {
   "cell_type": "code",
   "execution_count": null,
   "metadata": {},
   "outputs": [],
   "source": [
    "# Import any needed libraries here"
   ]
  },
  {
   "cell_type": "markdown",
   "metadata": {},
   "source": [
    "Data Preprocessing:\n",
    "In the below code cell, write your code to load and preprocess the data given to you in the challenge. In the space below this text cell, write any comments you have about your code/reasoning (why you processed the data in a certain way, what you noticed, etc.)\n",
    "\n",
    "(COMMENTS HERE)"
   ]
  },
  {
   "cell_type": "code",
   "execution_count": null,
   "metadata": {},
   "outputs": [],
   "source": [
    "# Write your preprocessing code in this cell, feel free to add more code cells if needed"
   ]
  },
  {
   "cell_type": "markdown",
   "metadata": {},
   "source": [
    "EDA:\n",
    "In the below code cell, write the code that you used for your EDA. In the space below this text cell, write any comments you have about your code/reasoning (what you checked in your analysis, what you noticed, etc.)\n",
    "\n",
    "(COMMENTS HERE)"
   ]
  },
  {
   "cell_type": "code",
   "execution_count": null,
   "metadata": {},
   "outputs": [],
   "source": [
    "# Write your EDA code in this cell, feel free to add more code cells if needed"
   ]
  },
  {
   "cell_type": "markdown",
   "metadata": {},
   "source": [
    "Model Implementation:\n",
    "In the below code cell, write your code to implement CAPM and then a model of your choosing to generate the weights for each asset. In the space below this text cell, write any comments you have about your code/reasoning (what model you chose and why, etc.)\n",
    "\n",
    "(COMMENTS HERE)"
   ]
  },
  {
   "cell_type": "code",
   "execution_count": null,
   "metadata": {},
   "outputs": [],
   "source": [
    "# Write your modeling code in this cell, feel free to add more code cells if needed"
   ]
  },
  {
   "cell_type": "markdown",
   "metadata": {},
   "source": [
    "Model Backtesting:\n",
    "In the below code cell, write your code to backtest your model against the benchmark of the S&P 500 and computing your backtesting metrics. In the space below this text cell, write any comments you have about your code/reasoning (what you noticed about the results, etc.)\n",
    "\n",
    "(COMMENTS HERE)"
   ]
  },
  {
   "cell_type": "code",
   "execution_count": null,
   "metadata": {},
   "outputs": [],
   "source": [
    "# Write your backtesting code in this cell, feel free to add more code cells if needed"
   ]
  },
  {
   "cell_type": "markdown",
   "metadata": {},
   "source": [
    "References:\n",
    "In this text cell, please give any references you used (including ChatGPT!), and what you got out of that resource. "
   ]
  }
 ],
 "metadata": {
  "kernelspec": {
   "display_name": "Python 3",
   "language": "python",
   "name": "python3"
  },
  "language_info": {
   "name": "python",
   "version": "3.9.13"
  }
 },
 "nbformat": 4,
 "nbformat_minor": 2
}
