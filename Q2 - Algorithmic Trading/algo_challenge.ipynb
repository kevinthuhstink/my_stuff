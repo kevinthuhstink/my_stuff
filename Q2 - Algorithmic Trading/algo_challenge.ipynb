{
 "cells": [
  {
   "cell_type": "markdown",
   "metadata": {},
   "source": [
    "# Algorithmic Trading Strategy Challenge"
   ]
  },
  {
   "attachments": {},
   "cell_type": "markdown",
   "metadata": {},
   "source": [
    "Name: _____________\n",
    "Grade: ____________\n",
    "Date: _____________"
   ]
  },
  {
   "attachments": {},
   "cell_type": "markdown",
   "metadata": {},
   "source": [
    "In this challenge, your task is to design an algorithmic trading strategy using the stocks provided to you in the assignment.\n",
    "    \n",
    "You may use yfinance to source data for the stocks within the period defined in the assignment\n",
    "\n",
    "You are not allowed to use a \"buy and hold\" strategy.\n",
    "\n",
    "Your solution can be based on machine learning, technical analysis, or any other approach you find suitable.\n",
    "\n",
    "Be creative and demonstrate your coding ability in this challenge.\n",
    "\n",
    "In addition to implementing your strategy during this time period, you will also need to graph the profit/loss of strategy and the buy and hold over time.\n",
    "\n",
    "Make sure to add markdown blocks and comments to expain your strategy\n"
   ]
  },
  {
   "cell_type": "markdown",
   "metadata": {},
   "source": [
    "## Strategy Implementation"
   ]
  },
  {
   "cell_type": "code",
   "execution_count": null,
   "metadata": {},
   "outputs": [],
   "source": []
  },
  {
   "attachments": {},
   "cell_type": "markdown",
   "metadata": {},
   "source": [
    "## Plot (P/L) and (Buy and Hold)"
   ]
  },
  {
   "cell_type": "markdown",
   "metadata": {},
   "source": []
  },
  {
   "attachments": {},
   "cell_type": "markdown",
   "metadata": {},
   "source": [
    "## Compare the strategy and buy and hold's sharpe ratio"
   ]
  },
  {
   "cell_type": "markdown",
   "metadata": {},
   "source": []
  }
 ],
 "metadata": {
  "kernelspec": {
   "display_name": "Python 3",
   "language": "python",
   "name": "python3"
  },
  "language_info": {
   "codemirror_mode": {
    "name": "ipython",
    "version": 3
   },
   "file_extension": ".py",
   "mimetype": "text/x-python",
   "name": "python",
   "nbconvert_exporter": "python",
   "pygments_lexer": "ipython3",
   "version": "3.9.6"
  },
  "orig_nbformat": 4,
  "vscode": {
   "interpreter": {
    "hash": "ab0fb5b787ea1c36c5a322217fc57982a184ebe6ccf86951c0208c54c0e55b8a"
   }
  }
 },
 "nbformat": 4,
 "nbformat_minor": 2
}
