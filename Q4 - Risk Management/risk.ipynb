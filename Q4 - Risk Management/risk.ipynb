{
 "cells": [
  {
   "cell_type": "markdown",
   "metadata": {},
   "source": [
    "# Risk Challenge\n",
    "\n",
    "Allowed libraries: NumPy, Pandas, SkLearn(or any related machine learning/regression library), YFinance"
   ]
  },
  {
   "cell_type": "markdown",
   "metadata": {},
   "source": [
    "## Part 1:\n",
    "a) Create your own statistical metric. It can be based off of some that already exist, or you can entirely create your own. How can this metric be useful to SSMIF, what does the metric tell us? \n",
    "\n",
    "b) Write a function that takes in an input of a stock ticker and returns the metric"
   ]
  },
  {
   "cell_type": "code",
   "execution_count": null,
   "metadata": {},
   "outputs": [],
   "source": [
    "#Write your code here"
   ]
  },
  {
   "cell_type": "markdown",
   "metadata": {},
   "source": [
    "## Part 2: \n",
    "a) Using the risk-challenge data fit a linear model (Bonus: do not use sklearn to create the model) to the data to predict the y values. What are the coefficients of the x values? Does the model have any predictive power? How statistically significant is the models predictive power at an alpha of 0.05; complete a full hypothesis test. \n",
    "\n",
    "*optional*<br>\n",
    "b) Fit a non linear model of your choosing to the data, describe the predictive power and show if it is statistically signicant at the same alpha level."
   ]
  },
  {
   "cell_type": "code",
   "execution_count": null,
   "metadata": {},
   "outputs": [],
   "source": [
    "#Write your code here"
   ]
  },
  {
   "cell_type": "markdown",
   "metadata": {},
   "source": []
  },
  {
   "cell_type": "markdown",
   "metadata": {},
   "source": []
  }
 ],
 "metadata": {
  "kernelspec": {
   "display_name": "Python 3.11.4 64-bit",
   "language": "python",
   "name": "python3"
  },
  "language_info": {
   "name": "python",
   "version": "3.11.4"
  },
  "vscode": {
   "interpreter": {
    "hash": "aee8b7b246df8f9039afb4144a1f6fd8d2ca17a180786b69acc140d282b71a49"
   }
  }
 },
 "nbformat": 4,
 "nbformat_minor": 2
}
